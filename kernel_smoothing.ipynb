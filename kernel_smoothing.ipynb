{
 "cells": [
  {
   "cell_type": "code",
   "execution_count": 9,
   "metadata": {},
   "outputs": [],
   "source": [
    "import numpy as np\n",
    "from scipy.stats import norm\n",
    "import matplotlib.pyplot as plt\n",
    "import seaborn as sns\n",
    "sns.set()"
   ]
  },
  {
   "cell_type": "code",
   "execution_count": 16,
   "metadata": {},
   "outputs": [
    {
     "data": {
      "text/plain": [
       "(array([ 1.,  4.,  6.,  8., 19., 17., 21., 11.,  6.,  7.]),\n",
       " array([ 89.52101958,  91.3098289 ,  93.09863821,  94.88744753,\n",
       "         96.67625685,  98.46506616, 100.25387548, 102.04268479,\n",
       "        103.83149411, 105.62030342, 107.40911274]),\n",
       " <a list of 10 Patch objects>)"
      ]
     },
     "execution_count": 16,
     "metadata": {},
     "output_type": "execute_result"
    },
    {
     "data": {
      "image/png": "[encoded data removed]",
      "text/plain": [
       "<Figure size 432x288 with 1 Axes>"
      ]
     },
     "metadata": {
      "needs_background": "light"
     },
     "output_type": "display_data"
    }
   ],
   "source": [
    "rng = np.random.RandomState(42)\n",
    "X = rng.normal(100, 4, size=100)\n",
    "plt.hist(X)"
   ]
  },
  {
   "cell_type": "code",
   "execution_count": 24,
   "metadata": {},
   "outputs": [],
   "source": [
    "X_axis = np.linspace(90, 120, 100)\n",
    "gaussian = [norm(x).pdf(x) for x in X]"
   ]
  },
  {
   "cell_type": "code",
   "execution_count": 25,
   "metadata": {},
   "outputs": [
    {
     "data": {
      "text/plain": [
       "[0.3989422804014327,\n",
       " 0.3989422804014327,\n",
       " 0.3989422804014327,\n",
       " 0.3989422804014327,\n",
       " 0.3989422804014327,\n",
       " 0.3989422804014327,\n",
       " 0.3989422804014327,\n",
       " 0.3989422804014327,\n",
       " 0.3989422804014327,\n",
       " 0.3989422804014327,\n",
       " 0.3989422804014327,\n",
       " 0.3989422804014327,\n",
       " 0.3989422804014327,\n",
       " 0.3989422804014327,\n",
       " 0.3989422804014327,\n",
       " 0.3989422804014327,\n",
       " 0.3989422804014327,\n",
       " 0.3989422804014327,\n",
       " 0.3989422804014327,\n",
       " 0.3989422804014327,\n",
       " 0.3989422804014327,\n",
       " 0.3989422804014327,\n",
       " 0.3989422804014327,\n",
       " 0.3989422804014327,\n",
       " 0.3989422804014327,\n",
       " 0.3989422804014327,\n",
       " 0.3989422804014327,\n",
       " 0.3989422804014327,\n",
       " 0.3989422804014327,\n",
       " 0.3989422804014327,\n",
       " 0.3989422804014327,\n",
       " 0.3989422804014327,\n",
       " 0.3989422804014327,\n",
       " 0.3989422804014327,\n",
       " 0.3989422804014327,\n",
       " 0.3989422804014327,\n",
       " 0.3989422804014327,\n",
       " 0.3989422804014327,\n",
       " 0.3989422804014327,\n",
       " 0.3989422804014327,\n",
       " 0.3989422804014327,\n",
       " 0.3989422804014327,\n",
       " 0.3989422804014327,\n",
       " 0.3989422804014327,\n",
       " 0.3989422804014327,\n",
       " 0.3989422804014327,\n",
       " 0.3989422804014327,\n",
       " 0.3989422804014327,\n",
       " 0.3989422804014327,\n",
       " 0.3989422804014327,\n",
       " 0.3989422804014327,\n",
       " 0.3989422804014327,\n",
       " 0.3989422804014327,\n",
       " 0.3989422804014327,\n",
       " 0.3989422804014327,\n",
       " 0.3989422804014327,\n",
       " 0.3989422804014327,\n",
       " 0.3989422804014327,\n",
       " 0.3989422804014327,\n",
       " 0.3989422804014327,\n",
       " 0.3989422804014327,\n",
       " 0.3989422804014327,\n",
       " 0.3989422804014327,\n",
       " 0.3989422804014327,\n",
       " 0.3989422804014327,\n",
       " 0.3989422804014327,\n",
       " 0.3989422804014327,\n",
       " 0.3989422804014327,\n",
       " 0.3989422804014327,\n",
       " 0.3989422804014327,\n",
       " 0.3989422804014327,\n",
       " 0.3989422804014327,\n",
       " 0.3989422804014327,\n",
       " 0.3989422804014327,\n",
       " 0.3989422804014327,\n",
       " 0.3989422804014327,\n",
       " 0.3989422804014327,\n",
       " 0.3989422804014327,\n",
       " 0.3989422804014327,\n",
       " 0.3989422804014327,\n",
       " 0.3989422804014327,\n",
       " 0.3989422804014327,\n",
       " 0.3989422804014327,\n",
       " 0.3989422804014327,\n",
       " 0.3989422804014327,\n",
       " 0.3989422804014327,\n",
       " 0.3989422804014327,\n",
       " 0.3989422804014327,\n",
       " 0.3989422804014327,\n",
       " 0.3989422804014327,\n",
       " 0.3989422804014327,\n",
       " 0.3989422804014327,\n",
       " 0.3989422804014327,\n",
       " 0.3989422804014327,\n",
       " 0.3989422804014327,\n",
       " 0.3989422804014327,\n",
       " 0.3989422804014327,\n",
       " 0.3989422804014327,\n",
       " 0.3989422804014327,\n",
       " 0.3989422804014327]"
      ]
     },
     "execution_count": 25,
     "metadata": {},
     "output_type": "execute_result"
    }
   ],
   "source": [
    "gaussian"
   ]
  },
  {
   "cell_type": "code",
   "execution_count": null,
   "metadata": {},
   "outputs": [],
   "source": []
  }
 ],
 "metadata": {
  "kernelspec": {
   "display_name": "Python 3",
   "language": "python",
   "name": "python3"
  },
  "language_info": {
   "codemirror_mode": {
    "name": "ipython",
    "version": 3
   },
   "file_extension": ".py",
   "mimetype": "text/x-python",
   "name": "python",
   "nbconvert_exporter": "python",
   "pygments_lexer": "ipython3",
   "version": "3.7.3"
  }
 },
 "nbformat": 4,
 "nbformat_minor": 2
}
