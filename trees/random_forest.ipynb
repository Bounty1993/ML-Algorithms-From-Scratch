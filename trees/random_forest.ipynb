{
 "cells": [
  {
   "cell_type": "code",
   "execution_count": 47,
   "metadata": {},
   "outputs": [],
   "source": [
    "from collections import Counter\n",
    "import numpy as np\n",
    "import pandas as pd\n",
    "from sklearn.tree import DecisionTreeClassifier\n",
    "from sklearn.datasets import load_iris\n",
    "\n",
    "X, Y = load_iris().data, load_iris().target"
   ]
  },
  {
   "cell_type": "code",
   "execution_count": 95,
   "metadata": {},
   "outputs": [],
   "source": [
    "class RandomForestClassifier:\n",
    "    def __init__(self, n_estimators=100, max_depth=None, min_samples_split=2, max_features='auto'):\n",
    "        self.n_estimators = n_estimators\n",
    "        self.max_depth = max_depth\n",
    "        self.min_samples_split=2\n",
    "        self.max_features = max_features\n",
    "        self.trees_feat_idx = []\n",
    "        \n",
    "    def _get_trees(self):\n",
    "        trees = []\n",
    "        for _ in range(self.n_estimators):\n",
    "            trees.append(\n",
    "                DecisionTreeClassifier(max_depth=self.max_depth, \n",
    "                                       min_samples_split=self.min_samples_split))\n",
    "        return trees\n",
    "    \n",
    "    def _get_max_features(self, X):\n",
    "        n_features = X.shape[1]\n",
    "        if self.max_features == 'auto':\n",
    "            return int(np.sqrt(n_features))\n",
    "        elif isinstance(self.max_features, int):\n",
    "            return max_features\n",
    "        else:\n",
    "            raise ValueError('Bad max features')\n",
    "            \n",
    "    def get_subset(self, X, Y):\n",
    "        m = X.shape[0]\n",
    "        idx = np.random.choice(range(m), 10)\n",
    "        return X[idx], Y[idx]\n",
    "        \n",
    "        \n",
    "    def fit(self, X, Y):\n",
    "        self.trees = self._get_trees()\n",
    "        max_feat = self._get_max_features(X)\n",
    "        m = X.shape[0]\n",
    "        \n",
    "        for i in range(self.n_estimators):\n",
    "            sub_X, sub_Y = self.get_subset(X, Y)\n",
    "            idx_features = np.random.choice(range(sub_X.shape[1]), max_feat, replace=True)\n",
    "            self.trees_feat_idx.append(idx_features)\n",
    "            temp_X = sub_X[:, idx_features]\n",
    "            self.trees[i].fit(temp_X, sub_Y)\n",
    "            \n",
    "            \n",
    "    def predict(self, X):\n",
    "        y_preds = np.zeros(shape=(X.shape[0], self.n_estimators))\n",
    "        for i in range(self.n_estimators):\n",
    "            idx_features = self.trees_feat_idx[i]\n",
    "            temp_X = X[:, idx_features]\n",
    "            one_pred = self.trees[i].predict(temp_X)\n",
    "            y_preds[:,i] = one_pred\n",
    "        \n",
    "        result = []\n",
    "        for row in y_preds:\n",
    "            pred = Counter(row).most_common(1)[0][0]\n",
    "            result.append(pred)\n",
    "        \n",
    "        return result"
   ]
  },
  {
   "cell_type": "code",
   "execution_count": 71,
   "metadata": {},
   "outputs": [],
   "source": [
    "one = X[:, 0].reshape(-1,1).tolist()\n",
    "two = X[:, 1].reshape(-1,1).tolist()"
   ]
  },
  {
   "cell_type": "code",
   "execution_count": 96,
   "metadata": {},
   "outputs": [],
   "source": [
    "model = RandomForestClassifier(max_depth=5)\n",
    "model.fit(X, Y)\n",
    "Y_pred = model.predict(X)"
   ]
  }
 ],
 "metadata": {
  "kernelspec": {
   "display_name": "Python 3",
   "language": "python",
   "name": "python3"
  },
  "language_info": {
   "codemirror_mode": {
    "name": "ipython",
    "version": 3
   },
   "file_extension": ".py",
   "mimetype": "text/x-python",
   "name": "python",
   "nbconvert_exporter": "python",
   "pygments_lexer": "ipython3",
   "version": "3.7.6"
  }
 },
 "nbformat": 4,
 "nbformat_minor": 4
}
