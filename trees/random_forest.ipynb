{
 "cells": [
  {
   "cell_type": "code",
   "execution_count": 8,
   "metadata": {},
   "outputs": [],
   "source": [
    "import numpy as np\n",
    "import pandas as pd\n",
    "from sklearn.tree import DecisionTreeClassifier\n",
    "from sklearn.datasets import load_boston\n",
    "\n",
    "X, Y = load_boston().data, load_boston().target"
   ]
  },
  {
   "cell_type": "code",
   "execution_count": 25,
   "metadata": {},
   "outputs": [],
   "source": [
    "class RandomForestClassifier:\n",
    "    def __init__(self, n_estimators=100, max_depth=None, min_samples_split=2, max_features='auto'):\n",
    "        self.n_estimators = n_estimators\n",
    "        self.max_depth = max_depth\n",
    "        self.min_samples_split=2\n",
    "        self.max_features = max_features\n",
    "        self.trees_feat_idx = []\n",
    "        \n",
    "    def _get_trees(self):\n",
    "        trees = []\n",
    "        for _ in n_estimators:\n",
    "            trees.append(\n",
    "                DecisionTreeClassifier(max_depth=self.max_depth, \n",
    "                                       min_samples_split=self.min_samples_split))\n",
    "        return trees\n",
    "    \n",
    "    def _get_max_features(self, X):\n",
    "        n_features = X.shape[1]\n",
    "        if self.max_features == 'auto':\n",
    "            return int(np.sqrt(n_features))\n",
    "        elif isinstance(self.max_features, int):\n",
    "            return max_features\n",
    "        else:\n",
    "            raise ValueError('Bad max features')\n",
    "            \n",
    "    def get_subset(X, Y):\n",
    "        m = X.shape[0]\n",
    "        idx = np.random.choice(range(m), 10)\n",
    "        return X[idx], Y[idx]\n",
    "        \n",
    "        \n",
    "    def fit(self, X, Y):\n",
    "        trees = self._get_trees()\n",
    "        max_feat = self._get_max_features(X)\n",
    "        m = X.shape[0]\n",
    "        \n",
    "        for i in range(self.n_estimators):\n",
    "            sub_X, sub_Y = get_subset(X, Y)\n",
    "            idx_features = np.random.choice(range(m), max_feat, replace=True)\n",
    "            self.trees_feat_idx.append(idx_features)\n",
    "            temp_X = sub_X[:, idx_features]\n",
    "            self.trees[i].fit(temp_X, temp_Y)"
   ]
  }
 ],
 "metadata": {
  "kernelspec": {
   "display_name": "Python 3",
   "language": "python",
   "name": "python3"
  },
  "language_info": {
   "codemirror_mode": {
    "name": "ipython",
    "version": 3
   },
   "file_extension": ".py",
   "mimetype": "text/x-python",
   "name": "python",
   "nbconvert_exporter": "python",
   "pygments_lexer": "ipython3",
   "version": "3.7.6"
  }
 },
 "nbformat": 4,
 "nbformat_minor": 4
}
