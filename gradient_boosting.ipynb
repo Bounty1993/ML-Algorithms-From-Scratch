{
 "cells": [
  {
   "cell_type": "code",
   "execution_count": 9,
   "metadata": {},
   "outputs": [],
   "source": [
    "import numpy as np\n",
    "from sklearn.tree import DecisionTreeRegressor\n",
    "import matplotlib.pyplot as plt"
   ]
  },
  {
   "cell_type": "code",
   "execution_count": 158,
   "metadata": {},
   "outputs": [],
   "source": [
    " class GradientBoosting:\n",
    "    def __init__(self, n_estimators, learning_rate, min_samples_split,\n",
    "                 max_depth, regression):\n",
    "        self.n_estimators = n_estimators\n",
    "        self.learning_rate = learning_rate\n",
    "        self.min_samples_split = min_samples_split\n",
    "        self.max_depth = max_depth\n",
    "        self.regression = regression\n",
    "        \n",
    "        self.trees = []\n",
    "        for _ in range(n_estimators):\n",
    "            tree = DecisionTreeRegressor(min_samples_split=self.min_samples_split, \n",
    "                                         max_depth=self.max_depth)\n",
    "            self.trees.append(tree)\n",
    "            \n",
    "    def get_residuals(self, Y, Y_pred):\n",
    "        return Y - Y_pred\n",
    "            \n",
    "    def fit(self, X, Y):\n",
    "        self.starting_mean = np.mean(Y)\n",
    "        Y_pred = np.full(len(Y), self.starting_mean).reshape(-1,1)\n",
    "        for i in range(self.n_estimators):\n",
    "            residuals = self.get_residuals(Y, Y_pred)\n",
    "            self.trees[i].fit(X, residuals)\n",
    "            new_pred = self.trees[i].predict(X)\n",
    "            Y_pred -= self.learning_rate * new_pred.reshape(-1,1)\n",
    "            \n",
    "    def predict(self, X):\n",
    "        Y_pred = self.starting_mean\n",
    "        for tree in self.trees:\n",
    "            new_pred = tree.predict(X)\n",
    "            Y_pred += self.learning_rate * new_pred\n",
    "        return Y_pred\n",
    "    \n",
    "class GradientBoostingRegressor(GradientBoosting):\n",
    "    def __init__(self, n_estimators=100, learning_rate=0.5, \n",
    "                 min_samples_split=2, max_depth=4):\n",
    "        super().__init__(n_estimators=n_estimators, \n",
    "                         learning_rate=learning_rate,\n",
    "                         min_samples_split=min_samples_split, \n",
    "                         max_depth=max_depth,\n",
    "                         regression=True)"
   ]
  },
  {
   "cell_type": "code",
   "execution_count": 159,
   "metadata": {},
   "outputs": [
    {
     "data": {
      "text/plain": [
       "[<matplotlib.lines.Line2D at 0x7f592d41a668>]"
      ]
     },
     "execution_count": 159,
     "metadata": {},
     "output_type": "execute_result"
    },
    {
     "data": {
      "image/png": "[encoded data removed]",
      "text/plain": [
       "<Figure size 432x288 with 1 Axes>"
      ]
     },
     "metadata": {
      "needs_background": "light"
     },
     "output_type": "display_data"
    }
   ],
   "source": [
    "X = np.linspace(0, 10, 100)\n",
    "Y = 2 + np.sin(X) + np.random.rand(100)\n",
    "plt.scatter(X, Y)\n",
    "\n",
    "model = GradientBoostingRegressor(learning_rate=0.01)\n",
    "model.fit(X.reshape(-1,1), Y.reshape(-1, 1))\n",
    "Y_pred = model.predict(X.reshape(-1,1))\n",
    "plt.plot(X, Y_pred)"
   ]
  }
 ],
 "metadata": {
  "kernelspec": {
   "display_name": "Python 3",
   "language": "python",
   "name": "python3"
  },
  "language_info": {
   "codemirror_mode": {
    "name": "ipython",
    "version": 3
   },
   "file_extension": ".py",
   "mimetype": "text/x-python",
   "name": "python",
   "nbconvert_exporter": "python",
   "pygments_lexer": "ipython3",
   "version": "3.7.3"
  }
 },
 "nbformat": 4,
 "nbformat_minor": 2
}
