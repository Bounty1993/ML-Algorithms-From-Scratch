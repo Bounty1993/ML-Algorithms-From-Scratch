{
 "cells": [
  {
   "cell_type": "code",
   "execution_count": 1,
   "metadata": {},
   "outputs": [],
   "source": [
    "import numpy as np\n",
    "import pandas as pd\n",
    "import matplotlib.pyplot as plt"
   ]
  },
  {
   "cell_type": "code",
   "execution_count": 111,
   "metadata": {},
   "outputs": [],
   "source": [
    "class CustomLinearRegression:\n",
    "    def __init__(self, fit_intercept=True, normalize=False):\n",
    "        self.fit_intercept = fit_intercept\n",
    "        self.normalize = normalize\n",
    "    \n",
    "    def _check(self, X, y):\n",
    "        if not isinstance(X, list):\n",
    "            raise ValueError('X is not a list')\n",
    "        elif not isinstance(y, list):\n",
    "            raise ValueError('y is not a list')\n",
    "        else:\n",
    "            X_array = np.array(X)\n",
    "            y_array = np.array(y)\n",
    "        \n",
    "        if X_array.shape[0] != y_array.shape[0]:\n",
    "            raise ValueError(f'number of rows in X and y is not equal')\n",
    "\n",
    "        self.X = X_array\n",
    "        self.y = y_array\n",
    "        \n",
    "    def _add_intercept(self):     \n",
    "        if self.fit_intercept:\n",
    "            x0_array = np.ones([self.X.shape[0], 1])\n",
    "            self.X = np.concatenate((x0_array, self.X), axis=1)\n",
    "            \n",
    "    def _make_normalized(self):\n",
    "        if self.normalize:\n",
    "            norm = np.linalg.norm(self.X, axis=1, keepdims=True)\n",
    "            print(norm)\n",
    "            self.X = self.X / norm\n",
    "            \n",
    "    def _compute_loss(self):\n",
    "        m = self.X.shape[0]\n",
    "        h = np.dot(self.X, self.theta)\n",
    "        loss =np.sum((h - y) ** 2) / (2 * m)\n",
    "        \n",
    "        return loss\n",
    "    \n",
    "    def _compute_hypothesis(self):\n",
    "        return np.dot(self.X, self.theta)\n",
    "            \n",
    "    def _descend_gradient(self, alpha, num_iter):\n",
    "        m = self.X.shape[0]\n",
    "        num_features = self.X.shape[1]\n",
    "        self.theta = np.zeros((num_features, 1))\n",
    "        \n",
    "        for i in range(num_iter):\n",
    "            h = self._compute_hypothesis()\n",
    "            error = h - y\n",
    "            temp_X = np.dot(error.T, self.X)\n",
    "            self.theta = self.theta - (alpha / m)  * (temp_X.T)\n",
    "\n",
    "    def fit(self, X, y):\n",
    "        # checking X and y and making numpy arrays\n",
    "        self._check(X, y)\n",
    "\n",
    "        # if normalize add normalization\n",
    "        self._make_normalized()\n",
    "        \n",
    "        # if fit_intercept adding column with one numbers\n",
    "        self._add_intercept()\n",
    "        \n",
    "        self._descend_gradient(alpha=0.01, num_iter=1000)\n",
    "        \n",
    "        return self.theta\n",
    "    \n",
    "    def predict(self, x_test):\n",
    "        x_test = np.array(x_test)\n",
    "        x0_array = np.ones([self.X.shape[0], 1])\n",
    "        x_test = np.concatenate((x0_array, x_test), axis=1)\n",
    "        print(x_test)\n",
    "        return np.dot(x_test, self.theta)\n",
    "    \n",
    "    def score(self, X, y):\n",
    "        "
   ]
  },
  {
   "cell_type": "code",
   "execution_count": 114,
   "metadata": {},
   "outputs": [
    {
     "name": "stdout",
     "output_type": "stream",
     "text": [
      "[[ 2.23606798]\n",
      " [ 5.38516481]\n",
      " [11.18033989]]\n"
     ]
    },
    {
     "data": {
      "text/plain": [
       "array([[2.16773024],\n",
       "       [0.99785882],\n",
       "       [1.92611424]])"
      ]
     },
     "execution_count": 114,
     "metadata": {},
     "output_type": "execute_result"
    }
   ],
   "source": [
    "x = [[1,2], [2,5], [5, 10]]\n",
    "y = [[2], [4], [7]]\n",
    "\n",
    "model = CustomLinearRegression(normalize=True)\n",
    "model.fit(x, y)"
   ]
  },
  {
   "cell_type": "code",
   "execution_count": 115,
   "metadata": {},
   "outputs": [
    {
     "name": "stdout",
     "output_type": "stream",
     "text": [
      "[[ 1.  1.  2.]\n",
      " [ 1.  2.  5.]\n",
      " [ 1.  5. 10.]]\n"
     ]
    },
    {
     "data": {
      "text/plain": [
       "array([[ 7.01781753],\n",
       "       [13.79401906],\n",
       "       [26.4181667 ]])"
      ]
     },
     "execution_count": 115,
     "metadata": {},
     "output_type": "execute_result"
    }
   ],
   "source": [
    "model.predict(x)"
   ]
  },
  {
   "cell_type": "code",
   "execution_count": null,
   "metadata": {},
   "outputs": [],
   "source": []
  }
 ],
 "metadata": {
  "kernelspec": {
   "display_name": "Python 3",
   "language": "python",
   "name": "python3"
  },
  "language_info": {
   "codemirror_mode": {
    "name": "ipython",
    "version": 3
   },
   "file_extension": ".py",
   "mimetype": "text/x-python",
   "name": "python",
   "nbconvert_exporter": "python",
   "pygments_lexer": "ipython3",
   "version": "3.7.3"
  }
 },
 "nbformat": 4,
 "nbformat_minor": 2
}
