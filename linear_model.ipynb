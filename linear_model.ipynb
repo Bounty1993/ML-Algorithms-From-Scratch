{
 "cells": [
  {
   "cell_type": "code",
   "execution_count": 2,
   "metadata": {},
   "outputs": [],
   "source": [
    "import numpy as np\n",
    "import pandas as pd\n",
    "import matplotlib.pyplot as plt"
   ]
  },
  {
   "cell_type": "code",
   "execution_count": 1,
   "metadata": {},
   "outputs": [
    {
     "ename": "SyntaxError",
     "evalue": "unexpected EOF while parsing (<ipython-input-1-99fe2270e0ea>, line 75)",
     "output_type": "error",
     "traceback": [
      "\u001b[1;36m  File \u001b[1;32m\"<ipython-input-1-99fe2270e0ea>\"\u001b[1;36m, line \u001b[1;32m75\u001b[0m\n\u001b[1;33m    \u001b[0m\n\u001b[1;37m    ^\u001b[0m\n\u001b[1;31mSyntaxError\u001b[0m\u001b[1;31m:\u001b[0m unexpected EOF while parsing\n"
     ]
    }
   ],
   "source": [
    "class CustomLinearRegression:\n",
    "    def __init__(self, fit_intercept=True, normalize=False):\n",
    "        self.fit_intercept = fit_intercept\n",
    "        self.normalize = normalize\n",
    "    \n",
    "    def _check(self, X, y):\n",
    "        if not isinstance(X, list):\n",
    "            raise ValueError('X is not a list')\n",
    "        elif not isinstance(y, list):\n",
    "            raise ValueError('y is not a list')\n",
    "        else:\n",
    "            X_array = np.array(X)\n",
    "            y_array = np.array(y)\n",
    "        \n",
    "        if X_array.shape[0] != y_array.shape[0]:\n",
    "            raise ValueError(f'number of rows in X and y is not equal')\n",
    "\n",
    "        self.X = X_array\n",
    "        self.y = y_array\n",
    "        \n",
    "    def _add_intercept(self):     \n",
    "        if self.fit_intercept:\n",
    "            x0_array = np.ones([self.X.shape[0], 1])\n",
    "            self.X = np.concatenate((x0_array, self.X), axis=1)\n",
    "            \n",
    "    def _make_normalized(self):\n",
    "        if self.normalize:\n",
    "            norm = np.linalg.norm(self.X, axis=1, keepdims=True)\n",
    "            print(norm)\n",
    "            self.X = self.X / norm\n",
    "            \n",
    "    def _compute_loss(self):\n",
    "        m = self.X.shape[0]\n",
    "        h = np.dot(self.X, self.theta)\n",
    "        loss =np.sum((h - y) ** 2) / (2 * m)\n",
    "        \n",
    "        return loss\n",
    "    \n",
    "    def _compute_hypothesis(self):\n",
    "        return np.dot(self.X, self.theta)\n",
    "            \n",
    "    def _descend_gradient(self, alpha, num_iter):\n",
    "        m = self.X.shape[0]\n",
    "        num_features = self.X.shape[1]\n",
    "        self.theta = np.zeros((num_features, 1))\n",
    "        \n",
    "        for i in range(num_iter):\n",
    "            h = self._compute_hypothesis()\n",
    "            error = h - y\n",
    "            temp_X = np.dot(error.T, self.X)\n",
    "            self.theta = self.theta - (alpha / m)  * (temp_X.T)\n",
    "\n",
    "    def fit(self, X, y):\n",
    "        # checking X and y and making numpy arrays\n",
    "        self._check(X, y)\n",
    "\n",
    "        # if normalize add normalization\n",
    "        self._make_normalized()\n",
    "        \n",
    "        # if fit_intercept adding column with one numbers\n",
    "        self._add_intercept()\n",
    "        \n",
    "        self._descend_gradient(alpha=0.01, num_iter=1000)\n",
    "        \n",
    "        return self.theta\n",
    "    \n",
    "    def predict(self, x_test):\n",
    "        x_test = np.array(x_test)\n",
    "        x0_array = np.ones([self.X.shape[0], 1])\n",
    "        x_test = np.concatenate((x0_array, x_test), axis=1)\n",
    "        print(x_test)\n",
    "        return np.dot(x_test, self.theta)\n",
    "    \n",
    "    def score(self, X, y):\n",
    "        "
   ]
  },
  {
   "cell_type": "code",
   "execution_count": 8,
   "metadata": {},
   "outputs": [],
   "source": [
    "class LinearRegression():\n",
    "    def __init__(self, fit_intercept=False):\n",
    "        self.fit_intercept = fit_intercept\n",
    "        \n",
    "    def _add_intercept(self):     \n",
    "        if self.fit_intercept:\n",
    "            x0_array = np.ones([self.X.shape[0], 1])\n",
    "            self.X = np.concatenate((x0_array, self.X), axis=1)\n",
    "        \n",
    "    def fit(self, X, Y):\n",
    "        self._add_intercept()\n",
    "        X_X = X.T @ X\n",
    "        X_Y = X.T @ Y\n",
    "        self.beta = np.linalg.inv(X_X) @ X_Y\n",
    "        \n",
    "    def predict(self, X):\n",
    "        return X @ self.beta\n",
    "    \n",
    "class Ridge(LinearRegression):\n",
    "    pass"
   ]
  },
  {
   "cell_type": "code",
   "execution_count": 24,
   "metadata": {},
   "outputs": [
    {
     "ename": "AttributeError",
     "evalue": "module 'numpy' has no attribute 'fill_diagonize'",
     "output_type": "error",
     "traceback": [
      "\u001b[1;31m---------------------------------------------------------------------------\u001b[0m",
      "\u001b[1;31mAttributeError\u001b[0m                            Traceback (most recent call last)",
      "\u001b[1;32m<ipython-input-24-5c5b90ad4e05>\u001b[0m in \u001b[0;36m<module>\u001b[1;34m\u001b[0m\n\u001b[1;32m----> 1\u001b[1;33m \u001b[0mnp\u001b[0m\u001b[1;33m.\u001b[0m\u001b[0mfill_diagonize\u001b[0m\u001b[1;33m(\u001b[0m\u001b[0mx\u001b[0m\u001b[1;33m)\u001b[0m\u001b[1;33m\u001b[0m\u001b[1;33m\u001b[0m\u001b[0m\n\u001b[0m",
      "\u001b[1;32m~\\anaconda3\\lib\\site-packages\\numpy\\__init__.py\u001b[0m in \u001b[0;36m__getattr__\u001b[1;34m(attr)\u001b[0m\n\u001b[0;32m    218\u001b[0m             \u001b[1;32melse\u001b[0m\u001b[1;33m:\u001b[0m\u001b[1;33m\u001b[0m\u001b[1;33m\u001b[0m\u001b[0m\n\u001b[0;32m    219\u001b[0m                 raise AttributeError(\"module {!r} has no attribute \"\n\u001b[1;32m--> 220\u001b[1;33m                                      \"{!r}\".format(__name__, attr))\n\u001b[0m\u001b[0;32m    221\u001b[0m \u001b[1;33m\u001b[0m\u001b[0m\n\u001b[0;32m    222\u001b[0m         \u001b[1;32mdef\u001b[0m \u001b[0m__dir__\u001b[0m\u001b[1;33m(\u001b[0m\u001b[1;33m)\u001b[0m\u001b[1;33m:\u001b[0m\u001b[1;33m\u001b[0m\u001b[1;33m\u001b[0m\u001b[0m\n",
      "\u001b[1;31mAttributeError\u001b[0m: module 'numpy' has no attribute 'fill_diagonize'"
     ]
    }
   ],
   "source": []
  },
  {
   "cell_type": "code",
   "execution_count": 16,
   "metadata": {},
   "outputs": [],
   "source": [
    "x = np.array([[1], [2], [5]])\n",
    "y = np.array([[2], [4], [7]])\n",
    "\n",
    "model = LinearRegression()\n",
    "model.fit(x, y)"
   ]
  },
  {
   "cell_type": "code",
   "execution_count": 17,
   "metadata": {},
   "outputs": [],
   "source": [
    "y_pred = model.predict(x)"
   ]
  },
  {
   "cell_type": "code",
   "execution_count": 19,
   "metadata": {},
   "outputs": [
    {
     "data": {
      "text/plain": [
       "[<matplotlib.lines.Line2D at 0x224f6f3d388>]"
      ]
     },
     "execution_count": 19,
     "metadata": {},
     "output_type": "execute_result"
    },
    {
     "data": {
      "image/png": "[encoded data removed]",
      "text/plain": [
       "<Figure size 432x288 with 1 Axes>"
      ]
     },
     "metadata": {
      "needs_background": "light"
     },
     "output_type": "display_data"
    }
   ],
   "source": [
    "plt.scatter(x, y)\n",
    "plt.plot(x, y_pred)"
   ]
  },
  {
   "cell_type": "code",
   "execution_count": null,
   "metadata": {},
   "outputs": [],
   "source": []
  }
 ],
 "metadata": {
  "kernelspec": {
   "display_name": "Python 3",
   "language": "python",
   "name": "python3"
  },
  "language_info": {
   "codemirror_mode": {
    "name": "ipython",
    "version": 3
   },
   "file_extension": ".py",
   "mimetype": "text/x-python",
   "name": "python",
   "nbconvert_exporter": "python",
   "pygments_lexer": "ipython3",
   "version": "3.7.6"
  }
 },
 "nbformat": 4,
 "nbformat_minor": 2
}
