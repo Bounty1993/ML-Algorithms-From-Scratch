{
 "cells": [
  {
   "cell_type": "code",
   "execution_count": 1,
   "metadata": {},
   "outputs": [],
   "source": [
    "import numpy as np\n",
    "import pandas as pd\n",
    "import matplotlib.pyplot as plt\n",
    "from sklearn.datasets import load_boston\n",
    "from sklearn.metrics import r2_score"
   ]
  },
  {
   "cell_type": "code",
   "execution_count": 2,
   "metadata": {},
   "outputs": [],
   "source": [
    "X, Y = load_boston().data, load_boston().target"
   ]
  },
  {
   "cell_type": "code",
   "execution_count": 3,
   "metadata": {},
   "outputs": [],
   "source": [
    "class SGD:\n",
    "    def __init__(self, fit_intercept=True, normalize=False):\n",
    "        self.fit_intercept = fit_intercept\n",
    "        self.normalize = normalize\n",
    "    \n",
    "    def _check(self, X, y):\n",
    "        if not isinstance(X, list):\n",
    "            raise ValueError('X is not a list')\n",
    "        elif not isinstance(y, list):\n",
    "            raise ValueError('y is not a list')\n",
    "        else:\n",
    "            X_array = np.array(X)\n",
    "            y_array = np.array(y)\n",
    "        \n",
    "        if X_array.shape[0] != y_array.shape[0]:\n",
    "            raise ValueError(f'number of rows in X and y is not equal')\n",
    "\n",
    "        self.X = X_array\n",
    "        self.y = y_array\n",
    "        \n",
    "    def _add_intercept(self):     \n",
    "        if self.fit_intercept:\n",
    "            x0_array = np.ones([self.X.shape[0], 1])\n",
    "            self.X = np.concatenate((x0_array, self.X), axis=1)\n",
    "            \n",
    "    def _make_normalized(self):\n",
    "        if self.normalize:\n",
    "            norm = np.linalg.norm(self.X, axis=1, keepdims=True)\n",
    "            self.X = self.X / norm\n",
    "            \n",
    "    def _compute_loss(self):\n",
    "        m = self.X.shape[0]\n",
    "        h = np.dot(self.X, self.theta)\n",
    "        loss =np.sum((h - y) ** 2) / (2 * m)\n",
    "        return loss\n",
    "    \n",
    "    def _compute_hypothesis(self, theta):\n",
    "        return np.dot(self.X, theta)\n",
    "            \n",
    "    def _descend_gradient(self, alpha, num_iter):\n",
    "        m = self.X.shape[0]\n",
    "        num_features = self.X.shape[1]\n",
    "        theta = np.zeros((num_features, 1))\n",
    "        \n",
    "        for i in range(num_iter):\n",
    "            h = self._compute_hypothesis(theta)\n",
    "            error = h - y\n",
    "            temp_X = np.dot(error.T, self.X)\n",
    "            theta = theta - (alpha / m)  * (temp_X.T)\n",
    "        return theta\n",
    "\n",
    "    def fit(self, X, y):\n",
    "        # checking X and y and making numpy arrays\n",
    "        self._check(X, y)\n",
    "\n",
    "        # if normalize add normalization\n",
    "        self._make_normalized()\n",
    "        \n",
    "        # if fit_intercept adding column with one numbers\n",
    "        self._add_intercept()\n",
    "        \n",
    "        self.theta = self._descend_gradient(alpha=0.01, num_iter=1000)\n",
    "    \n",
    "    def predict(self, x_test):\n",
    "        x_test = np.array(x_test)\n",
    "        x0_array = np.ones([self.X.shape[0], 1])\n",
    "        x_test = np.concatenate((x0_array, x_test), axis=1)\n",
    "        print(x_test)\n",
    "        return np.dot(x_test, self.theta)"
   ]
  },
  {
   "cell_type": "markdown",
   "metadata": {},
   "source": [
    "**Linear Regression**\n",
    "\n",
    "the formula for linear regression is $\\hat{Y} = \\beta_{0} + \\sum \\limits _{j=1} ^{p} X_{j}\\hat{\\beta}_{j} $. \n",
    "It can be solved using $\\frac{\\partial RSS}{\\partial{\\beta}} = 0$\n"
   ]
  },
  {
   "cell_type": "code",
   "execution_count": 5,
   "metadata": {},
   "outputs": [],
   "source": [
    "class LinearRegression():\n",
    "    def __init__(self, fit_intercept=False):\n",
    "        self.fit_intercept = fit_intercept\n",
    "        \n",
    "    def _add_intercept(self):     \n",
    "        if self.fit_intercept:\n",
    "            x0_array = np.ones([self.X.shape[0], 1])\n",
    "            self.X = np.concatenate((x0_array, self.X), axis=1)\n",
    "        \n",
    "    def fit(self, X, Y):\n",
    "        self._add_intercept()\n",
    "        X_X = X.T @ X\n",
    "        X_Y = X.T @ Y\n",
    "        self.beta = np.linalg.inv(X_X) @ X_Y\n",
    "        \n",
    "    def predict(self, X):\n",
    "        return X @ self.beta\n",
    "    \n",
    "class Ridge(LinearRegression):\n",
    "    def __init__(self, alpha=0.1, **kwargs):\n",
    "        super().__init__(**kwargs)\n",
    "        self.alpha = alpha\n",
    "        \n",
    "    def fit(self, X, Y):\n",
    "        alpha_mat = np.eye(X.shape[1]) * self.alpha\n",
    "        X_X = X.T @ X + alpha_mat\n",
    "        X_Y = X.T @ Y\n",
    "        self.beta = np.linalg.inv(X_X) @ X_Y"
   ]
  },
  {
   "cell_type": "code",
   "execution_count": 6,
   "metadata": {},
   "outputs": [
    {
     "data": {
      "text/plain": [
       "0.6167576730333505"
      ]
     },
     "execution_count": 6,
     "metadata": {},
     "output_type": "execute_result"
    }
   ],
   "source": [
    "model = LinearRegression()\n",
    "model.fit(X, Y)\n",
    "Y_pred = model.predict(X)\n",
    "r2_score(Y_pred, Y)"
   ]
  },
  {
   "cell_type": "code",
   "execution_count": 7,
   "metadata": {},
   "outputs": [
    {
     "data": {
      "text/plain": [
       "0.6165888743237311"
      ]
     },
     "execution_count": 7,
     "metadata": {},
     "output_type": "execute_result"
    }
   ],
   "source": [
    "model = Ridge()\n",
    "model.fit(X, Y)\n",
    "Y_pred = model.predict(X)\n",
    "r2_score(Y_pred, Y)"
   ]
  },
  {
   "cell_type": "code",
   "execution_count": null,
   "metadata": {},
   "outputs": [],
   "source": []
  }
 ],
 "metadata": {
  "kernelspec": {
   "display_name": "Python 3",
   "language": "python",
   "name": "python3"
  },
  "language_info": {
   "codemirror_mode": {
    "name": "ipython",
    "version": 3
   },
   "file_extension": ".py",
   "mimetype": "text/x-python",
   "name": "python",
   "nbconvert_exporter": "python",
   "pygments_lexer": "ipython3",
   "version": "3.7.3"
  }
 },
 "nbformat": 4,
 "nbformat_minor": 2
}
