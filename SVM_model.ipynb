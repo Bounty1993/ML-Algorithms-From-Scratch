{
 "cells": [
  {
   "cell_type": "code",
   "execution_count": 2,
   "metadata": {},
   "outputs": [],
   "source": [
    "import numpy as np\n",
    "import pandas as pd"
   ]
  },
  {
   "cell_type": "code",
   "execution_count": 16,
   "metadata": {},
   "outputs": [],
   "source": [
    "class SVM:\n",
    "    def fit(self, data):\n",
    "        self.data = data\n",
    "        opt_w = {}\n",
    "        \n",
    "        transforms = [\n",
    "            [1,1], [-1,1], [1,-1], [-1,-1]\n",
    "        ]\n",
    "        \n",
    "        all_data = []\n",
    "        for key in self.data:\n",
    "            for row in self.data[key]:\n",
    "                for i in row:\n",
    "                    all_data.append(i)\n",
    "\n",
    "        self.min_val = min(all_data)\n",
    "        self.max_val = max(all_data)\n",
    "        all_data = None\n",
    "    \n",
    "        steps = [\n",
    "            self.max_val * 0.1, self.max_val * 0.01, self.max_val * 0.001\n",
    "        ]\n",
    "    \n",
    "    def predict(self, features):\n",
    "        prediction = np.sign(np.dot(np.array(features), self.w) + self.b)\n",
    "\n"
   ]
  },
  {
   "cell_type": "code",
   "execution_count": 18,
   "metadata": {},
   "outputs": [
    {
     "data": {
      "text/plain": [
       "8"
      ]
     },
     "execution_count": 18,
     "metadata": {},
     "output_type": "execute_result"
    }
   ],
   "source": [
    "data_dict = {-1:np.array([[1,7],\n",
    "                          [2,8],\n",
    "                          [3,8],]),\n",
    "             \n",
    "             1:np.array([[5,1],\n",
    "                         [6,-1],\n",
    "                         [7,3],])}\n",
    "\n",
    "model = SVM()\n",
    "model.fit(data_dict)"
   ]
  },
  {
   "cell_type": "code",
   "execution_count": 8,
   "metadata": {},
   "outputs": [
    {
     "data": {
      "text/plain": [
       "1"
      ]
     },
     "execution_count": 8,
     "metadata": {},
     "output_type": "execute_result"
    }
   ],
   "source": []
  },
  {
   "cell_type": "code",
   "execution_count": null,
   "metadata": {},
   "outputs": [],
   "source": []
  }
 ],
 "metadata": {
  "kernelspec": {
   "display_name": "Python 3",
   "language": "python",
   "name": "python3"
  },
  "language_info": {
   "codemirror_mode": {
    "name": "ipython",
    "version": 3
   },
   "file_extension": ".py",
   "mimetype": "text/x-python",
   "name": "python",
   "nbconvert_exporter": "python",
   "pygments_lexer": "ipython3",
   "version": "3.7.3"
  }
 },
 "nbformat": 4,
 "nbformat_minor": 2
}
