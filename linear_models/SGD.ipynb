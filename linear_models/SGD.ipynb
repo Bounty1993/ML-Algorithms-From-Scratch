{
 "cells": [
  {
   "cell_type": "code",
   "execution_count": 1,
   "metadata": {},
   "outputs": [],
   "source": [
    "import numpy as np\n",
    "import matplotlib.pyplot as plt\n",
    "import seaborn\n",
    "\n",
    "seaborn.set()"
   ]
  },
  {
   "cell_type": "markdown",
   "metadata": {},
   "source": [
    "\\begin{equation*}\n",
    "\\theta := \\theta - \\eta\\nabla J(\\theta)\n",
    "\\end{equation*}\n",
    "\n",
    "\\begin{equation*}\n",
    "J(\\theta) = \\frac{1}{2m}\\lvert\\lvert X\\theta - Y \\lvert\\lvert^2 + \\frac{\\lambda}{2m}\\theta^T\\theta\n",
    "\\end{equation*}\n",
    "\n",
    "\\begin{equation*}\n",
    "\\nabla J(\\theta) = X^T(X\\theta - Y) + \\frac{\\lambda}{m}\\theta\n",
    "\\end{equation*}"
   ]
  },
  {
   "cell_type": "code",
   "execution_count": 188,
   "metadata": {},
   "outputs": [],
   "source": [
    "class SGDRegressor:\n",
    "    def __init__(self, fit_intercept=True, normalize=False, lam=0.005):\n",
    "        self.fit_intercept = fit_intercept\n",
    "        self.normalize = normalize\n",
    "        self.lam = lam\n",
    "        \n",
    "    def _add_intercept(self, X):\n",
    "        \"\"\"\n",
    "        Function is responsible for adding intercept to features.\n",
    "        \n",
    "        Parameters\n",
    "        ----------\n",
    "        X : DataFrame\n",
    "            Features\n",
    "            \n",
    "        Returns\n",
    "        -------\n",
    "        DataFrame\n",
    "            Features with ones in the first column.\n",
    "        \"\"\"\n",
    "        intercept = np.ones(X.shape[0]).reshape(-1, 1)\n",
    "        X = np.concatenate((intercept, X), axis=1)\n",
    "        return X\n",
    "            \n",
    "    def _compute_loss(self):\n",
    "        m = self.X.shape[0]\n",
    "        h = np.dot(self.X, self.theta)\n",
    "        loss =np.sum((h - y) ** 2) / (2 * m)\n",
    "        return loss\n",
    "    \n",
    "    def _compute_hypothesis(self, X, theta):\n",
    "        return np.dot(X, theta)\n",
    "    \n",
    "    def _get_regularisation(self, theta, m):\n",
    "        return self.lam / m * theta\n",
    "            \n",
    "    def _descend_gradient(self, X, Y, alpha, num_iter):\n",
    "        m = X.shape[0]\n",
    "        num_features = X.shape[1]\n",
    "        theta = np.zeros((num_features, 1))\n",
    "        \n",
    "        for i in range(num_iter):\n",
    "            h = self._compute_hypothesis(X, theta)\n",
    "            error = h - Y\n",
    "            temp_X = np.dot(error.T, X)\n",
    "            reg_term = self._get_regularisation(theta, m)\n",
    "            theta = theta - alpha  * (temp_X.T / m + reg_term)\n",
    "        return theta\n",
    "\n",
    "    def fit(self, X, Y):\n",
    "        if self.fit_intercept:\n",
    "            X = self._add_intercept(X)\n",
    "        self.theta = self._descend_gradient(X, Y, alpha=0.01, num_iter=1000)\n",
    "    \n",
    "    def predict(self, X):\n",
    "        if self.fit_intercept:\n",
    "            X = self._add_intercept(X)\n",
    "        return np.dot(X, self.theta)"
   ]
  },
  {
   "cell_type": "code",
   "execution_count": 189,
   "metadata": {},
   "outputs": [
    {
     "data": {
      "text/plain": [
       "<matplotlib.collections.PathCollection at 0x2cbf977fac8>"
      ]
     },
     "execution_count": 189,
     "metadata": {},
     "output_type": "execute_result"
    },
    {
     "data": {
      "image/png": "[encoded data removed]",
      "text/plain": [
       "<Figure size 432x288 with 1 Axes>"
      ]
     },
     "metadata": {},
     "output_type": "display_data"
    }
   ],
   "source": [
    "X = np.linspace(1, 10, 100)\n",
    "errors = np.random.rand(100)\n",
    "Y = 2 + X + 7*errors\n",
    "\n",
    "plt.scatter(X, Y)"
   ]
  },
  {
   "cell_type": "code",
   "execution_count": 190,
   "metadata": {},
   "outputs": [],
   "source": [
    "model = SGDRegressor()\n",
    "model.fit(X.reshape(-1, 1), Y.reshape(-1, 1))\n",
    "y_pred = model.predict(X.reshape(-1, 1))"
   ]
  },
  {
   "cell_type": "code",
   "execution_count": 191,
   "metadata": {},
   "outputs": [
    {
     "data": {
      "image/png": "[encoded data removed]",
      "text/plain": [
       "<Figure size 432x288 with 1 Axes>"
      ]
     },
     "metadata": {},
     "output_type": "display_data"
    }
   ],
   "source": [
    "plt.scatter(X, Y)\n",
    "plt.plot(X, y_pred);"
   ]
  },
  {
   "cell_type": "code",
   "execution_count": 127,
   "metadata": {},
   "outputs": [
    {
     "data": {
      "text/plain": [
       "(2, 100)"
      ]
     },
     "execution_count": 127,
     "metadata": {},
     "output_type": "execute_result"
    }
   ],
   "source": [
    "model.theta.shape"
   ]
  },
  {
   "cell_type": "code",
   "execution_count": 138,
   "metadata": {},
   "outputs": [
    {
     "data": {
      "text/plain": [
       "(100, 1)"
      ]
     },
     "execution_count": 138,
     "metadata": {},
     "output_type": "execute_result"
    }
   ],
   "source": [
    "Y.reshape(-1,1).shape"
   ]
  },
  {
   "cell_type": "code",
   "execution_count": null,
   "metadata": {},
   "outputs": [],
   "source": []
  }
 ],
 "metadata": {
  "kernelspec": {
   "display_name": "Python 3",
   "language": "python",
   "name": "python3"
  },
  "language_info": {
   "codemirror_mode": {
    "name": "ipython",
    "version": 3
   },
   "file_extension": ".py",
   "mimetype": "text/x-python",
   "name": "python",
   "nbconvert_exporter": "python",
   "pygments_lexer": "ipython3",
   "version": "3.7.6"
  }
 },
 "nbformat": 4,
 "nbformat_minor": 4
}
