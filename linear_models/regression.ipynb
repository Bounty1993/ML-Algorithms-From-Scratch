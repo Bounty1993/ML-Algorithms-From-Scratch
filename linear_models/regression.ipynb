{
 "cells": [
  {
   "cell_type": "code",
   "execution_count": 1,
   "metadata": {},
   "outputs": [],
   "source": [
    "import numpy as np\n",
    "import pandas as pd\n",
    "import matplotlib.pyplot as plt\n",
    "from sklearn.datasets import load_boston\n",
    "from sklearn.metrics import r2_score"
   ]
  },
  {
   "cell_type": "code",
   "execution_count": 2,
   "metadata": {},
   "outputs": [],
   "source": [
    "X, Y = load_boston().data, load_boston().target"
   ]
  },
  {
   "cell_type": "markdown",
   "metadata": {},
   "source": [
    "**Linear Regression**\n",
    "\n",
    "the formula for linear regression is $\\hat{Y} = \\beta_{0} + \\sum \\limits _{j=1} ^{p} X_{j}\\hat{\\beta}_{j} $. \n",
    "It can be solved using $\\frac{\\partial RSS}{\\partial{\\beta}} = 0$\n"
   ]
  },
  {
   "cell_type": "code",
   "execution_count": 5,
   "metadata": {},
   "outputs": [],
   "source": [
    "class LinearRegression():\n",
    "    def __init__(self, fit_intercept=False):\n",
    "        self.fit_intercept = fit_intercept\n",
    "        \n",
    "    def _add_intercept(self):     \n",
    "        if self.fit_intercept:\n",
    "            x0_array = np.ones([self.X.shape[0], 1])\n",
    "            self.X = np.concatenate((x0_array, self.X), axis=1)\n",
    "        \n",
    "    def fit(self, X, Y):\n",
    "        self._add_intercept()\n",
    "        X_X = X.T @ X\n",
    "        X_Y = X.T @ Y\n",
    "        self.beta = np.linalg.inv(X_X) @ X_Y\n",
    "        \n",
    "    def predict(self, X):\n",
    "        return X @ self.beta\n",
    "    \n",
    "class Ridge(LinearRegression):\n",
    "    def __init__(self, alpha=0.1, **kwargs):\n",
    "        super().__init__(**kwargs)\n",
    "        self.alpha = alpha\n",
    "        \n",
    "    def fit(self, X, Y):\n",
    "        alpha_mat = np.eye(X.shape[1]) * self.alpha\n",
    "        X_X = X.T @ X + alpha_mat\n",
    "        X_Y = X.T @ Y\n",
    "        self.beta = np.linalg.inv(X_X) @ X_Y\n",
    "        \n",
    "        \n",
    "class Lasso:\n",
    "    def __init__(self, alpha=1.0, *, fit_intercept=True, max_iter=1000, tol=0.0001):\n",
    "        self.alpha = alpha\n",
    "        self.fit_intercept = fit_intercept\n",
    "        self.max_iter = max_iter\n",
    "        self.tol = tol\n",
    "        \n",
    "    def _add_intercept(self, X):\n",
    "        \"\"\"\n",
    "        Function is responsible for adding intercept to features.\n",
    "        \n",
    "        Parameters\n",
    "        ----------\n",
    "        X : DataFrame\n",
    "            Features\n",
    "            \n",
    "        Returns\n",
    "        -------\n",
    "        DataFrame\n",
    "            Features with ones in the first column.\n",
    "        \"\"\"\n",
    "        intercept = np.ones(X.shape[0]).reshape(-1, 1)\n",
    "        X = np.concatenate((intercept, X), axis=1)\n",
    "        return X\n",
    "    \n",
    "    def fit(self, X, Y):\n",
    "        if self.fit_intercept:\n",
    "            X = self._add_intercept(X)\n",
    "            \n",
    "        n, m = X.shape\n",
    "        beta = np.zeros(m)\n",
    "        \n",
    "        for i in range(self.max_iter):\n",
    "            beta = self.update_beta(beta, X, Y)\n",
    "    \n",
    "    def update_beta(self, beta, X, Y):\n",
    "        pass"
   ]
  },
  {
   "cell_type": "code",
   "execution_count": 8,
   "metadata": {},
   "outputs": [],
   "source": [
    "n, m = X.shape\n",
    "beta = np.zeros(m)\n",
    "\n",
    "Y_pred = X @ beta\n"
   ]
  },
  {
   "cell_type": "code",
   "execution_count": 6,
   "metadata": {},
   "outputs": [
    {
     "data": {
      "text/plain": [
       "0.6167576730333505"
      ]
     },
     "execution_count": 6,
     "metadata": {},
     "output_type": "execute_result"
    }
   ],
   "source": [
    "model = LinearRegression()\n",
    "model.fit(X, Y)\n",
    "Y_pred = model.predict(X)\n",
    "r2_score(Y_pred, Y)"
   ]
  },
  {
   "cell_type": "code",
   "execution_count": 7,
   "metadata": {},
   "outputs": [
    {
     "data": {
      "text/plain": [
       "0.6165888743237311"
      ]
     },
     "execution_count": 7,
     "metadata": {},
     "output_type": "execute_result"
    }
   ],
   "source": [
    "model = Ridge()\n",
    "model.fit(X, Y)\n",
    "Y_pred = model.predict(X)\n",
    "r2_score(Y_pred, Y)"
   ]
  },
  {
   "cell_type": "code",
   "execution_count": null,
   "metadata": {},
   "outputs": [],
   "source": []
  }
 ],
 "metadata": {
  "kernelspec": {
   "display_name": "Python 3",
   "language": "python",
   "name": "python3"
  },
  "language_info": {
   "codemirror_mode": {
    "name": "ipython",
    "version": 3
   },
   "file_extension": ".py",
   "mimetype": "text/x-python",
   "name": "python",
   "nbconvert_exporter": "python",
   "pygments_lexer": "ipython3",
   "version": "3.7.6"
  }
 },
 "nbformat": 4,
 "nbformat_minor": 2
}
