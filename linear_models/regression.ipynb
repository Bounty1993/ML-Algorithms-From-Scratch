{
 "cells": [
  {
   "cell_type": "code",
   "execution_count": 264,
   "metadata": {},
   "outputs": [],
   "source": [
    "import numpy as np\n",
    "import pandas as pd\n",
    "import matplotlib.pyplot as plt\n",
    "from sklearn.datasets import load_boston\n",
    "from sklearn.metrics import r2_score"
   ]
  },
  {
   "cell_type": "code",
   "execution_count": 265,
   "metadata": {},
   "outputs": [],
   "source": [
    "X, Y = load_boston().data, load_boston().target"
   ]
  },
  {
   "cell_type": "markdown",
   "metadata": {},
   "source": [
    "**Linear Regression**\n",
    "\n",
    "the formula for linear regression is $\\hat{Y} = \\beta_{0} + \\sum \\limits _{j=1} ^{p} X_{j}\\hat{\\beta}_{j} $. \n",
    "It can be solved using $\\frac{\\partial RSS}{\\partial{\\beta}} = 0$\n"
   ]
  },
  {
   "cell_type": "code",
   "execution_count": 289,
   "metadata": {},
   "outputs": [],
   "source": [
    "class Regression:\n",
    "    def __init__(self, fit_intercept=False):\n",
    "        \"\"\"\n",
    "        Method is responsible for setting most variables.\n",
    "        \n",
    "        Attributes\n",
    "        ----------\n",
    "        fit_intercept : bool\n",
    "            Whether to calculate the intercept for this model. \n",
    "            If set to False, no intercept will be used in calculations\n",
    "        \"\"\"\n",
    "        self.fit_intercept = fit_intercept\n",
    "        \n",
    "    def _add_intercept(self, X):\n",
    "        \"\"\"\n",
    "        Function is responsible for adding intercept to features.\n",
    "        \"\"\"\n",
    "        intercept = np.ones(X.shape[0]).reshape(-1, 1)\n",
    "        X = np.concatenate((intercept, X), axis=1)\n",
    "        return X\n",
    "    \n",
    "    def predict(self, X):\n",
    "        if self.fit_intercept:\n",
    "            X = self._add_intercept(X)\n",
    "        return X @ self.beta\n",
    "        \n",
    "\n",
    "class LinearRegression():\n",
    "    \"\"\"\n",
    "    Standard linear regression using normal equation. \n",
    "    It is not really efficient when a number of features\n",
    "    is very large.\n",
    "    \"\"\"\n",
    "    def __init__(self, fit_intercept=False):\n",
    "        \"\"\"\n",
    "        Method is responsible for setting most variables.\n",
    "        \n",
    "        Attributes\n",
    "        ----------\n",
    "        fit_intercept : bool\n",
    "            Whether to calculate the intercept for this model. \n",
    "            If set to False, no intercept will be used in calculations\n",
    "        \"\"\"\n",
    "        self.fit_intercept = fit_intercept\n",
    "        \n",
    "    def _add_intercept(self):     \n",
    "        if self.fit_intercept:\n",
    "            x0_array = np.ones([self.X.shape[0], 1])\n",
    "            self.X = np.concatenate((x0_array, self.X), axis=1)\n",
    "        \n",
    "    def fit(self, X, Y):\n",
    "        self._add_intercept()\n",
    "        X_X = X.T @ X\n",
    "        X_Y = X.T @ Y\n",
    "        self.beta = np.linalg.inv(X_X) @ X_Y\n",
    "        \n",
    "    def predict(self, X):\n",
    "        return X @ self.beta\n",
    "    \n",
    "class Ridge(LinearRegression):\n",
    "    def __init__(self, alpha=0.1, **kwargs):\n",
    "        super().__init__(**kwargs)\n",
    "        self.alpha = alpha\n",
    "        \n",
    "    def fit(self, X, Y):\n",
    "        alpha_mat = np.eye(X.shape[1]) * self.alpha\n",
    "        X_X = X.T @ X + alpha_mat\n",
    "        X_Y = X.T @ Y\n",
    "        self.beta = np.linalg.inv(X_X) @ X_Y\n",
    "        \n",
    "        \n",
    "class Lasso:\n",
    "    def __init__(self, alpha=1.0, *, fit_intercept=True, max_iter=1000, tol=0.01):\n",
    "        self.alpha = alpha\n",
    "        self.fit_intercept = fit_intercept\n",
    "        self.max_iter = max_iter\n",
    "        self.tol = tol\n",
    "        \n",
    "    def _add_intercept(self, X):\n",
    "        \"\"\"\n",
    "        Function is responsible for adding intercept to features.\n",
    "        \"\"\"\n",
    "        intercept = np.ones(X.shape[0]).reshape(-1, 1)\n",
    "        X = np.concatenate((intercept, X), axis=1)\n",
    "        return X\n",
    "    \n",
    "    def _get_regularization(self, weigth):\n",
    "        return self.alpha * np.sign(weight)\n",
    "    \n",
    "    def fit(self, X, Y):\n",
    "        if self.fit_intercept:\n",
    "            X = self._add_intercept(X)\n",
    "            \n",
    "        n, m = X.shape\n",
    "        beta = np.zeros(m)\n",
    "        \n",
    "        for i in range(self.max_iter):\n",
    "            beta = self.update_beta(beta, X, Y)\n",
    "        \n",
    "        self.beta = beta\n",
    "    \n",
    "    def update_beta(self, beta, X, Y):\n",
    "        Y_pred = X @ beta\n",
    "        gradient = -(X.T @ (Y - Y_pred)) + alpha * np.sign(beta)\n",
    "        beta -= tol * gradient / n\n",
    "        return beta\n",
    "    \n",
    "    def predict(self, X):\n",
    "        if self.fit_intercept:\n",
    "            X = self._add_intercept(X)\n",
    "        return X @ self.beta"
   ]
  },
  {
   "cell_type": "code",
   "execution_count": 267,
   "metadata": {},
   "outputs": [
    {
     "data": {
      "text/plain": [
       "0.6167576730333505"
      ]
     },
     "execution_count": 267,
     "metadata": {},
     "output_type": "execute_result"
    }
   ],
   "source": [
    "model = LinearRegression()\n",
    "model.fit(X, Y)\n",
    "Y_pred = model.predict(X)\n",
    "r2_score(Y_pred, Y)"
   ]
  },
  {
   "cell_type": "code",
   "execution_count": 268,
   "metadata": {},
   "outputs": [
    {
     "data": {
      "text/plain": [
       "0.6165888743237311"
      ]
     },
     "execution_count": 268,
     "metadata": {},
     "output_type": "execute_result"
    }
   ],
   "source": [
    "model = Ridge()\n",
    "model.fit(X, Y)\n",
    "Y_pred = model.predict(X)\n",
    "r2_score(Y_pred, Y)"
   ]
  },
  {
   "cell_type": "code",
   "execution_count": 290,
   "metadata": {},
   "outputs": [
    {
     "data": {
      "text/plain": [
       "[<matplotlib.lines.Line2D at 0x1e32b1f1ec8>]"
      ]
     },
     "execution_count": 290,
     "metadata": {},
     "output_type": "execute_result"
    },
    {
     "data": {
      "image/png": "[encoded data removed]",
      "text/plain": [
       "<Figure size 432x288 with 1 Axes>"
      ]
     },
     "metadata": {
      "needs_background": "light"
     },
     "output_type": "display_data"
    }
   ],
   "source": [
    "rng = np.random.RandomState(42)\n",
    "X = np.linspace(0, 10, 50)\n",
    "Y = 5 + 2 * X + rng.randn(50) * 2\n",
    "\n",
    "lasso = Lasso()\n",
    "lasso.fit(X.reshape(-1,1), Y)\n",
    "Y_pred = lasso.predict(X.reshape(-1,1))\n",
    "plt.scatter(X, Y)\n",
    "plt.plot(X, Y_pred)"
   ]
  },
  {
   "cell_type": "code",
   "execution_count": null,
   "metadata": {},
   "outputs": [],
   "source": []
  }
 ],
 "metadata": {
  "kernelspec": {
   "display_name": "Python 3",
   "language": "python",
   "name": "python3"
  },
  "language_info": {
   "codemirror_mode": {
    "name": "ipython",
    "version": 3
   },
   "file_extension": ".py",
   "mimetype": "text/x-python",
   "name": "python",
   "nbconvert_exporter": "python",
   "pygments_lexer": "ipython3",
   "version": "3.7.6"
  }
 },
 "nbformat": 4,
 "nbformat_minor": 2
}
