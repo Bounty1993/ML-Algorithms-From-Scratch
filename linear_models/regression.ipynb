{
 "cells": [
  {
   "cell_type": "code",
   "execution_count": 264,
   "metadata": {},
   "outputs": [],
   "source": [
    "import numpy as np\n",
    "import pandas as pd\n",
    "import matplotlib.pyplot as plt\n",
    "from sklearn.datasets import load_boston\n",
    "from sklearn.metrics import r2_score"
   ]
  },
  {
   "cell_type": "code",
   "execution_count": 265,
   "metadata": {},
   "outputs": [],
   "source": [
    "X, Y = load_boston().data, load_boston().target"
   ]
  },
  {
   "cell_type": "markdown",
   "metadata": {},
   "source": [
    "**Linear Regression**\n",
    "\n",
    "the formula for linear regression is $\\hat{Y} = \\beta_{0} + \\sum \\limits _{j=1} ^{p} X_{j}\\hat{\\beta}_{j} $. \n",
    "It can be solved using $\\frac{\\partial RSS}{\\partial{\\beta}} = 0$\n"
   ]
  },
  {
   "cell_type": "code",
   "execution_count": 284,
   "metadata": {},
   "outputs": [],
   "source": [
    "class LinearRegression():\n",
    "    def __init__(self, fit_intercept=False):\n",
    "        self.fit_intercept = fit_intercept\n",
    "        \n",
    "    def _add_intercept(self):     \n",
    "        if self.fit_intercept:\n",
    "            x0_array = np.ones([self.X.shape[0], 1])\n",
    "            self.X = np.concatenate((x0_array, self.X), axis=1)\n",
    "        \n",
    "    def fit(self, X, Y):\n",
    "        self._add_intercept()\n",
    "        X_X = X.T @ X\n",
    "        X_Y = X.T @ Y\n",
    "        self.beta = np.linalg.inv(X_X) @ X_Y\n",
    "        \n",
    "    def predict(self, X):\n",
    "        return X @ self.beta\n",
    "    \n",
    "class Ridge(LinearRegression):\n",
    "    def __init__(self, alpha=0.1, **kwargs):\n",
    "        super().__init__(**kwargs)\n",
    "        self.alpha = alpha\n",
    "        \n",
    "    def fit(self, X, Y):\n",
    "        alpha_mat = np.eye(X.shape[1]) * self.alpha\n",
    "        X_X = X.T @ X + alpha_mat\n",
    "        X_Y = X.T @ Y\n",
    "        self.beta = np.linalg.inv(X_X) @ X_Y\n",
    "        \n",
    "        \n",
    "class Lasso:\n",
    "    def __init__(self, alpha=1.0, *, fit_intercept=True, max_iter=1000, tol=0.01):\n",
    "        self.alpha = alpha\n",
    "        self.fit_intercept = fit_intercept\n",
    "        self.max_iter = max_iter\n",
    "        self.tol = tol\n",
    "        \n",
    "    def _add_intercept(self, X):\n",
    "        \"\"\"\n",
    "        Function is responsible for adding intercept to features.\n",
    "        \n",
    "        Parameters\n",
    "        ----------\n",
    "        X : DataFrame\n",
    "            Features\n",
    "            \n",
    "        Returns\n",
    "        -------\n",
    "        DataFrame\n",
    "            Features with ones in the first column.\n",
    "        \"\"\"\n",
    "        intercept = np.ones(X.shape[0]).reshape(-1, 1)\n",
    "        X = np.concatenate((intercept, X), axis=1)\n",
    "        return X\n",
    "    \n",
    "    def _get_regularization(self, weigth):\n",
    "        return self.alpha * np.sign(weight)\n",
    "    \n",
    "    def fit(self, X, Y):\n",
    "        if self.fit_intercept:\n",
    "            X = self._add_intercept(X)\n",
    "            \n",
    "        n, m = X.shape\n",
    "        beta = np.zeros(m)\n",
    "        \n",
    "        for i in range(self.max_iter):\n",
    "            beta = self.update_beta(beta, X, Y)\n",
    "        \n",
    "        self.beta = beta\n",
    "    \n",
    "    def update_beta(self, beta, X, Y):\n",
    "        Y_pred = X @ beta\n",
    "        gradient = -(X.T @ (Y - Y_pred)) + alpha * np.sign(beta)\n",
    "        beta -= tol * gradient / n\n",
    "        return beta\n",
    "    \n",
    "    def predict(self, X):\n",
    "        if self.fit_intercept:\n",
    "            X = self._add_intercept(X)\n",
    "        print(X)\n",
    "        return X @ beta"
   ]
  },
  {
   "cell_type": "code",
   "execution_count": 267,
   "metadata": {},
   "outputs": [
    {
     "data": {
      "text/plain": [
       "0.6167576730333505"
      ]
     },
     "execution_count": 267,
     "metadata": {},
     "output_type": "execute_result"
    }
   ],
   "source": [
    "model = LinearRegression()\n",
    "model.fit(X, Y)\n",
    "Y_pred = model.predict(X)\n",
    "r2_score(Y_pred, Y)"
   ]
  },
  {
   "cell_type": "code",
   "execution_count": 268,
   "metadata": {},
   "outputs": [
    {
     "data": {
      "text/plain": [
       "0.6165888743237311"
      ]
     },
     "execution_count": 268,
     "metadata": {},
     "output_type": "execute_result"
    }
   ],
   "source": [
    "model = Ridge()\n",
    "model.fit(X, Y)\n",
    "Y_pred = model.predict(X)\n",
    "r2_score(Y_pred, Y)"
   ]
  },
  {
   "cell_type": "code",
   "execution_count": 286,
   "metadata": {},
   "outputs": [
    {
     "name": "stdout",
     "output_type": "stream",
     "text": [
      "[[ 1.          0.        ]\n",
      " [ 1.          0.20408163]\n",
      " [ 1.          0.40816327]\n",
      " [ 1.          0.6122449 ]\n",
      " [ 1.          0.81632653]\n",
      " [ 1.          1.02040816]\n",
      " [ 1.          1.2244898 ]\n",
      " [ 1.          1.42857143]\n",
      " [ 1.          1.63265306]\n",
      " [ 1.          1.83673469]\n",
      " [ 1.          2.04081633]\n",
      " [ 1.          2.24489796]\n",
      " [ 1.          2.44897959]\n",
      " [ 1.          2.65306122]\n",
      " [ 1.          2.85714286]\n",
      " [ 1.          3.06122449]\n",
      " [ 1.          3.26530612]\n",
      " [ 1.          3.46938776]\n",
      " [ 1.          3.67346939]\n",
      " [ 1.          3.87755102]\n",
      " [ 1.          4.08163265]\n",
      " [ 1.          4.28571429]\n",
      " [ 1.          4.48979592]\n",
      " [ 1.          4.69387755]\n",
      " [ 1.          4.89795918]\n",
      " [ 1.          5.10204082]\n",
      " [ 1.          5.30612245]\n",
      " [ 1.          5.51020408]\n",
      " [ 1.          5.71428571]\n",
      " [ 1.          5.91836735]\n",
      " [ 1.          6.12244898]\n",
      " [ 1.          6.32653061]\n",
      " [ 1.          6.53061224]\n",
      " [ 1.          6.73469388]\n",
      " [ 1.          6.93877551]\n",
      " [ 1.          7.14285714]\n",
      " [ 1.          7.34693878]\n",
      " [ 1.          7.55102041]\n",
      " [ 1.          7.75510204]\n",
      " [ 1.          7.95918367]\n",
      " [ 1.          8.16326531]\n",
      " [ 1.          8.36734694]\n",
      " [ 1.          8.57142857]\n",
      " [ 1.          8.7755102 ]\n",
      " [ 1.          8.97959184]\n",
      " [ 1.          9.18367347]\n",
      " [ 1.          9.3877551 ]\n",
      " [ 1.          9.59183673]\n",
      " [ 1.          9.79591837]\n",
      " [ 1.         10.        ]]\n"
     ]
    },
    {
     "data": {
      "text/plain": [
       "[<matplotlib.lines.Line2D at 0x1e32b0122c8>]"
      ]
     },
     "execution_count": 286,
     "metadata": {},
     "output_type": "execute_result"
    },
    {
     "data": {
      "image/png": "[encoded data removed]",
      "text/plain": [
       "<Figure size 432x288 with 1 Axes>"
      ]
     },
     "metadata": {
      "needs_background": "light"
     },
     "output_type": "display_data"
    }
   ],
   "source": [
    "rng = np.random.RandomState(42)\n",
    "X = np.linspace(0, 10, 50)\n",
    "Y = 5 + 2 * X + rng.randn(50) * 2\n",
    "\n",
    "lasso = Lasso()\n",
    "lasso.fit(X.reshape(-1,1), Y)\n",
    "Y_pred = lasso.predict(X.reshape(-1,1))\n",
    "plt.scatter(X, Y)\n",
    "plt.plot(X, Y_pred)"
   ]
  },
  {
   "cell_type": "code",
   "execution_count": 287,
   "metadata": {},
   "outputs": [
    {
     "data": {
      "text/plain": [
       "[<matplotlib.lines.Line2D at 0x1e32b1b9c88>]"
      ]
     },
     "execution_count": 287,
     "metadata": {},
     "output_type": "execute_result"
    },
    {
     "data": {
      "image/png": "[encoded data removed]",
      "text/plain": [
       "<Figure size 432x288 with 1 Axes>"
      ]
     },
     "metadata": {
      "needs_background": "light"
     },
     "output_type": "display_data"
    }
   ],
   "source": [
    "temp_X = np.insert(X.reshape(-1,1), 0, 1, axis=1)\n",
    "Y_pred= temp_X @ lasso.beta\n",
    "plt.scatter(X, Y)\n",
    "plt.plot(X, Y_pred)"
   ]
  },
  {
   "cell_type": "code",
   "execution_count": 271,
   "metadata": {},
   "outputs": [
    {
     "data": {
      "text/plain": [
       "array([ 0.        ,  0.20408163,  0.40816327,  0.6122449 ,  0.81632653,\n",
       "        1.02040816,  1.2244898 ,  1.42857143,  1.63265306,  1.83673469,\n",
       "        2.04081633,  2.24489796,  2.44897959,  2.65306122,  2.85714286,\n",
       "        3.06122449,  3.26530612,  3.46938776,  3.67346939,  3.87755102,\n",
       "        4.08163265,  4.28571429,  4.48979592,  4.69387755,  4.89795918,\n",
       "        5.10204082,  5.30612245,  5.51020408,  5.71428571,  5.91836735,\n",
       "        6.12244898,  6.32653061,  6.53061224,  6.73469388,  6.93877551,\n",
       "        7.14285714,  7.34693878,  7.55102041,  7.75510204,  7.95918367,\n",
       "        8.16326531,  8.36734694,  8.57142857,  8.7755102 ,  8.97959184,\n",
       "        9.18367347,  9.3877551 ,  9.59183673,  9.79591837, 10.        ])"
      ]
     },
     "execution_count": 271,
     "metadata": {},
     "output_type": "execute_result"
    }
   ],
   "source": [
    "X"
   ]
  },
  {
   "cell_type": "code",
   "execution_count": null,
   "metadata": {},
   "outputs": [],
   "source": []
  }
 ],
 "metadata": {
  "kernelspec": {
   "display_name": "Python 3",
   "language": "python",
   "name": "python3"
  },
  "language_info": {
   "codemirror_mode": {
    "name": "ipython",
    "version": 3
   },
   "file_extension": ".py",
   "mimetype": "text/x-python",
   "name": "python",
   "nbconvert_exporter": "python",
   "pygments_lexer": "ipython3",
   "version": "3.7.6"
  }
 },
 "nbformat": 4,
 "nbformat_minor": 2
}
