{
 "cells": [
  {
   "cell_type": "code",
   "execution_count": 3,
   "metadata": {},
   "outputs": [],
   "source": [
    "import numpy as np\n",
    "import matplotlib.pyplot as plt\n",
    "import seaborn as sns\n",
    "from sklearn.datasets import make_blobs\n",
    "\n",
    "sns.set()"
   ]
  },
  {
   "cell_type": "code",
   "execution_count": 74,
   "metadata": {},
   "outputs": [],
   "source": [
    "class LogisticRegression:\n",
    "    def __init__(self, tol=0.0001, C=1.0, fit_intercept=True, max_iter=100, random_state=None):\n",
    "        self.tol = tol\n",
    "        self.C = C\n",
    "        self.fit_intercept = fit_intercept\n",
    "        self.max_iter = max_iter\n",
    "        \n",
    "        if random_state is None:\n",
    "            random_state = 42\n",
    "        self.rng = np.random.RandomState(random_state)\n",
    "        \n",
    "    def _add_intercept(self, X):\n",
    "        intercept = np.ones(X.shape[0]).reshape(-1, 1)\n",
    "        X = np.concatenate((intercept, X), axis=1)\n",
    "        return X\n",
    "        \n",
    "    def _sigmoid(self, z):\n",
    "        \"\"\"\n",
    "        Function returns sigmoid function. More about sigmoid function \n",
    "        you can check here https://en.wikipedia.org/wiki/Sigmoid_function.\n",
    "        \"\"\"\n",
    "        return 1 / (1 + np.exp(-z))\n",
    "\n",
    "    def cost_function(self, h, y):\n",
    "        return -y * np.log(h) - (1 - y) * np.log(1-h)\n",
    "    \n",
    "    def _gradient(self, X, y, weights):\n",
    "        z = np.dot(X, weights)\n",
    "        h = self._sigmoid(z)\n",
    "        errors = h - y\n",
    "        grad = np.dot(X.T, errors) / X.shape[0]\n",
    "        reg_term = self.C * weights / X.shape[0]\n",
    "        weights -= self.tol * (grad + reg_term)\n",
    "        return weights\n",
    "\n",
    "    def fit(self, X, y):\n",
    "        if self.fit_intercept:\n",
    "            X = self._add_intercept(X)\n",
    "        weights = np.zeros(X.shape[1])\n",
    "        for _ in range(self.max_iter):\n",
    "            self.weights = self._gradient(X, y, weights)\n",
    "        \n",
    "    def predict_proba(self, X):\n",
    "        if self.fit_intercept:\n",
    "            X = self._add_intercept(X)\n",
    "        z = np.dot(X, self.weights)\n",
    "        return self._sigmoid(z)\n",
    "    \n",
    "    def predict(self, X):\n",
    "        result = self.predict_proba(X)\n",
    "        return result >= 0.5"
   ]
  },
  {
   "cell_type": "code",
   "execution_count": 75,
   "metadata": {},
   "outputs": [],
   "source": [
    "data, target = make_blobs(centers=2, random_state=42)"
   ]
  },
  {
   "cell_type": "code",
   "execution_count": 76,
   "metadata": {},
   "outputs": [
    {
     "data": {
      "text/plain": [
       "<matplotlib.collections.PathCollection at 0x22d2f72ee48>"
      ]
     },
     "execution_count": 76,
     "metadata": {},
     "output_type": "execute_result"
    },
    {
     "data": {
      "image/png": "[encoded data removed]",
      "text/plain": [
       "<Figure size 432x288 with 1 Axes>"
      ]
     },
     "metadata": {},
     "output_type": "display_data"
    }
   ],
   "source": [
    "plt.scatter(data[:,0], data[:,1], c=target, cmap='PuOr')"
   ]
  },
  {
   "cell_type": "code",
   "execution_count": 83,
   "metadata": {},
   "outputs": [],
   "source": [
    "log_reg = LogisticRegression()\n",
    "log_reg.fit(data, target)\n",
    "y_pred = log_reg.predict(data)"
   ]
  }
 ],
 "metadata": {
  "kernelspec": {
   "display_name": "Python 3",
   "language": "python",
   "name": "python3"
  },
  "language_info": {
   "codemirror_mode": {
    "name": "ipython",
    "version": 3
   },
   "file_extension": ".py",
   "mimetype": "text/x-python",
   "name": "python",
   "nbconvert_exporter": "python",
   "pygments_lexer": "ipython3",
   "version": "3.7.6"
  }
 },
 "nbformat": 4,
 "nbformat_minor": 4
}
